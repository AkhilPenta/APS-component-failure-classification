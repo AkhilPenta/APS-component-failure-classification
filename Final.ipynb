{
 "cells": [
  {
   "cell_type": "markdown",
   "metadata": {},
   "source": [
    "## 9 Final Functions"
   ]
  },
  {
   "cell_type": "code",
   "execution_count": 10,
   "metadata": {},
   "outputs": [],
   "source": [
    "#importing Required Libraries\n",
    "import pandas as pd\n",
    "import numpy as np\n",
    "import joblib\n",
    "from sklearn.metrics import confusion_matrix\n",
    "import time\n",
    "\n",
    "import warnings\n",
    "warnings.filterwarnings('ignore')"
   ]
  },
  {
   "cell_type": "markdown",
   "metadata": {},
   "source": [
    "- RandomForestClassifier on RandomForestRegressor_imputer Imputed Data(section: 5.5.4) gave the lowest cost value of 9510 among all the trails.\n",
    "\n",
    "\n",
    "- StandardScaler model(as part of preprocessing) saved at section: 4.2\n",
    "- impute models and utiliy objects for RandomForestRegressor_imputation saved at section: 4.34\n",
    "- RandomForestClassifier model(trained with RandomForestRegressor_imputer Imputed Data) saved at section: 5.5.4"
   ]
  },
  {
   "cell_type": "code",
   "execution_count": 11,
   "metadata": {},
   "outputs": [],
   "source": [
    "#loading the saved StandardScaler model\n",
    "std_scaler = joblib.load('std_scaler.pkl')\n",
    "\n",
    "#Loading saved impute models and utiliy objects for RandomForestRegressor_imputation\n",
    "reg_mod_imp_RF = joblib.load('reg_mod_imp_RF.pkl')\n",
    "reg_model_med_imputer = joblib.load('reg_model_med_imputer.pkl')\n",
    "median_imp_cols = joblib.load('median_imp_cols.pkl')\n",
    "\n",
    "#Loading Saved RandomForestClassifier model\n",
    "classifier = joblib.load('ML models & Results/RFR_RF.pkl')\n",
    "#The best threshold value at which lowest cost was acquired\n",
    "threshold = 0.0229"
   ]
  },
  {
   "cell_type": "code",
   "execution_count": 12,
   "metadata": {},
   "outputs": [],
   "source": [
    "#loading test data from csv file\n",
    "test_data = pd.read_csv('aps_failure_test_set.csv', na_values = 'na')\n",
    "\n",
    "x_test = test_data.drop('class', axis = 1)\n",
    "y_test = test_data['class']"
   ]
  },
  {
   "cell_type": "markdown",
   "metadata": {},
   "source": [
    "### 9.1 Final Function - 1"
   ]
  },
  {
   "cell_type": "code",
   "execution_count": 13,
   "metadata": {},
   "outputs": [],
   "source": [
    "def final_fun_1(X):\n",
    "    '''It takes in raw data(X) as input and \n",
    "                    returns predictions of X'''\n",
    "    \n",
    "    def regression_model_imputer_transformer(X, median_imputer, median_imp_cols, reg_model):\n",
    "        '''It takes in raw data(X) which may contain nan values along with impute models and utility objects\n",
    "                and returns imputed data(X) using models passed through arguments'''\n",
    "        \n",
    "        X_imputed = X.copy()\n",
    "        #storing all the column indices in col_idcs\n",
    "        col_idcs = np.arange(X_imputed.shape[1])\n",
    "        #Imputing median_imp_cols using median_imputer \n",
    "        X_imputed.iloc[:,median_imp_cols] = median_imputer.transform(X_imputed.iloc[:,median_imp_cols])\n",
    "        #filtering all the columns indices which  to be filled by reg_model\n",
    "        model_imp_cols = np.array([col_idx for col_idx in col_idcs if col_idx not in median_imp_cols])\n",
    "        filled_cols = median_imp_cols\n",
    "        for col_idx in model_imp_cols:\n",
    "            #storing row indices in which the col_idx column have missing values\n",
    "            missing_rows_in_col = np.isnan(X_imputed.iloc[:,col_idx])\n",
    "            if missing_rows_in_col.sum() == 0:\n",
    "                continue\n",
    "            #predicting these missing values in col_idx column by using reg_model and filled_cols data in those missing_rows_in_col\n",
    "            X_imputed.iloc[:,col_idx][missing_rows_in_col] = reg_model.predict(X_imputed.iloc[:,filled_cols][missing_rows_in_col])\n",
    "        return X_imputed\n",
    "\n",
    "    X = pd.DataFrame(std_scaler.transform(X))\n",
    "    X = regression_model_imputer_transformer(X, reg_model_med_imputer, median_imp_cols, reg_mod_imp_RF)\n",
    "\n",
    "    Y_pred_prob = classifier.predict_proba(X)\n",
    "    Y_pred = (Y_pred_prob[:,1] > threshold).astype(int)\n",
    "    \n",
    "    return Y_pred"
   ]
  },
  {
   "cell_type": "code",
   "execution_count": 14,
   "metadata": {},
   "outputs": [
    {
     "name": "stdout",
     "output_type": "stream",
     "text": [
      "Predictions of Test DataSet:  [0 0 0 ... 0 0 0]\n",
      "Total time taken for prediction: 17.41692852973938 seconds\n"
     ]
    }
   ],
   "source": [
    "start_time = time.time()\n",
    "print('Predictions of Test DataSet: ', final_fun_1(x_test))\n",
    "print(\"Total time taken for prediction: %s seconds\" % (time.time() - start_time))"
   ]
  },
  {
   "cell_type": "code",
   "execution_count": 15,
   "metadata": {},
   "outputs": [
    {
     "name": "stdout",
     "output_type": "stream",
     "text": [
      "Prediction of 0th index row of Test Dataset:  [0]\n",
      "Total time taken for prediction: 0.4969966411590576 seconds\n"
     ]
    }
   ],
   "source": [
    "x = x_test.iloc[0].copy()\n",
    "x = x.values.reshape(1,-1)\n",
    "start_time = time.time()\n",
    "print('Prediction of 0th index row of Test Dataset: ',final_fun_1(x))\n",
    "print(\"Total time taken for prediction: %s seconds\" % (time.time() - start_time))"
   ]
  },
  {
   "cell_type": "code",
   "execution_count": 16,
   "metadata": {},
   "outputs": [
    {
     "name": "stdout",
     "output_type": "stream",
     "text": [
      "Prediction of 15994th index row of Test Dataset:  [1]\n",
      "Total time taken for prediction: 0.349994421005249 seconds\n"
     ]
    }
   ],
   "source": [
    "x = x_test.iloc[15994].copy()\n",
    "x = x.values.reshape(1,-1)\n",
    "start_time = time.time()\n",
    "print('Prediction of 15994th index row of Test Dataset: ',final_fun_1(x))\n",
    "print(\"Total time taken for prediction: %s seconds\" % (time.time() - start_time))"
   ]
  },
  {
   "cell_type": "markdown",
   "metadata": {},
   "source": [
    "### 9.2 Final Function - 2"
   ]
  },
  {
   "cell_type": "code",
   "execution_count": 17,
   "metadata": {},
   "outputs": [],
   "source": [
    "def final_fun_2(X,Y):\n",
    "    '''It takes in raw data as input along with its target values(X,Y) and \n",
    "                    returns metric value which is cost (= fp*10 + fn*500)'''\n",
    "\n",
    "    def regression_model_imputer_transformer(X, median_imputer, median_imp_cols, reg_model):\n",
    "        '''It takes in raw data(X) which may contain nan values along with impute models and utility objects\n",
    "                and returns imputed data(X) using models passed through arguments'''\n",
    "        \n",
    "        X_imputed = X.copy()\n",
    "        #storing all the column indices in col_idcs\n",
    "        col_idcs = np.arange(X_imputed.shape[1])\n",
    "        #Imputing median_imp_cols using median_imputer \n",
    "        X_imputed.iloc[:,median_imp_cols] = median_imputer.transform(X_imputed.iloc[:,median_imp_cols])\n",
    "        #filtering all the columns indices which  to be filled by reg_model\n",
    "        model_imp_cols = np.array([col_idx for col_idx in col_idcs if col_idx not in median_imp_cols])\n",
    "        filled_cols = median_imp_cols\n",
    "        for col_idx in model_imp_cols:\n",
    "            #storing row indices in which the col_idx column have missing values\n",
    "            missing_rows_in_col = np.isnan(X_imputed.iloc[:,col_idx])\n",
    "            if missing_rows_in_col.sum() == 0:\n",
    "                continue\n",
    "            #predicting these missing values in col_idx column by using reg_model and filled_cols data in those missing_rows_in_col\n",
    "            X_imputed.iloc[:,col_idx][missing_rows_in_col] = reg_model.predict(X_imputed.iloc[:,filled_cols][missing_rows_in_col])\n",
    "        return X_imputed\n",
    "    \n",
    "    #replacing 'neg' and 'pos' class labels with 0 & 1\n",
    "    Y.replace({'neg':0, 'pos':1}, inplace = True)\n",
    "    \n",
    "    X = pd.DataFrame(std_scaler.transform(X), columns = X.columns)\n",
    "    X = regression_model_imputer_transformer(X, reg_model_med_imputer, median_imp_cols, reg_mod_imp_RF)\n",
    "\n",
    "    Y_pred_prob = classifier.predict_proba(X)\n",
    "    Y_pred = (Y_pred_prob[:,1] > threshold).astype(int)\n",
    "    tn, fp, fn, tp = confusion_matrix(Y, Y_pred).ravel()\n",
    "    cost = fp*10 + fn*500\n",
    "\n",
    "    return cost"
   ]
  },
  {
   "cell_type": "code",
   "execution_count": 18,
   "metadata": {
    "scrolled": true
   },
   "outputs": [
    {
     "name": "stdout",
     "output_type": "stream",
     "text": [
      "Metric or cost value for Test DataSet:  9510\n",
      "Total time taken for metric computation: 17.12857460975647 seconds\n"
     ]
    }
   ],
   "source": [
    "start_time = time.time()\n",
    "print('Metric or cost value for Test DataSet: ', final_fun_2(x_test,y_test))\n",
    "print(\"Total time taken for metric computation: %s seconds\" % (time.time() - start_time))"
   ]
  }
 ],
 "metadata": {
  "kernelspec": {
   "display_name": "Python 3",
   "language": "python",
   "name": "python3"
  },
  "language_info": {
   "codemirror_mode": {
    "name": "ipython",
    "version": 3
   },
   "file_extension": ".py",
   "mimetype": "text/x-python",
   "name": "python",
   "nbconvert_exporter": "python",
   "pygments_lexer": "ipython3",
   "version": "3.7.3"
  }
 },
 "nbformat": 4,
 "nbformat_minor": 2
}
